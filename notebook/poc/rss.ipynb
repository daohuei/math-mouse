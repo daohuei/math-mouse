{
 "metadata": {
  "language_info": {
   "codemirror_mode": {
    "name": "ipython",
    "version": 3
   },
   "file_extension": ".py",
   "mimetype": "text/x-python",
   "name": "python",
   "nbconvert_exporter": "python",
   "pygments_lexer": "ipython3",
   "version": "3.8.2-final"
  },
  "orig_nbformat": 2,
  "kernelspec": {
   "name": "python3",
   "display_name": "Python 3.8.2 64-bit",
   "metadata": {
    "interpreter": {
     "hash": "31f2aee4e71d21fbe5cf8b01ff0e069b9275f58929596ceb00d14d90e3e16cd6"
    }
   }
  }
 },
 "nbformat": 4,
 "nbformat_minor": 2,
 "cells": [
  {
   "cell_type": "code",
   "execution_count": 1,
   "metadata": {},
   "outputs": [
    {
     "output_type": "stream",
     "name": "stdout",
     "text": [
      "   age     sex     bmi  children smoker     region      charges\n0   19  female  27.900         0    yes  southwest  16884.92400\n1   18    male  33.770         1     no  southeast   1725.55230\n2   28    male  33.000         3     no  southeast   4449.46200\n3   33    male  22.705         0     no  northwest  21984.47061\n4   32    male  28.880         0     no  northwest   3866.85520\n"
     ]
    }
   ],
   "source": [
    "import pandas as pd\n",
    "df = pd.read_csv(\"../../../data/insurance.csv\")\n",
    "print(df.head())"
   ]
  },
  {
   "cell_type": "code",
   "execution_count": 2,
   "metadata": {},
   "outputs": [
    {
     "output_type": "stream",
     "name": "stdout",
     "text": [
      "   age     sex     bmi  children smoker     region      charges  sex_code  \\\n0   19  female  27.900         0    yes  southwest  16884.92400         1   \n1   18    male  33.770         1     no  southeast   1725.55230         0   \n2   28    male  33.000         3     no  southeast   4449.46200         0   \n3   33    male  22.705         0     no  northwest  21984.47061         0   \n4   32    male  28.880         0     no  northwest   3866.85520         0   \n\n   smoker_code  \n0            1  \n1            0  \n2            0  \n3            0  \n4            0  \n"
     ]
    }
   ],
   "source": [
    "import numpy as np\n",
    "# transfer sex, smoker to dummy variable\n",
    "df['sex_code'] = np.where(df['sex'] == 'female', 1, 0)\n",
    "df['smoker_code'] = np.where(df['smoker'] == 'yes', 1, 0)\n",
    "X = np.array(df[['age', 'bmi', 'children', 'sex_code', 'smoker_code']])\n",
    "y = np.array(df['charges'])\n",
    "print(df.head())"
   ]
  },
  {
   "cell_type": "code",
   "execution_count": 3,
   "metadata": {},
   "outputs": [],
   "source": [
    "# split the data for training and testing\n",
    "from sklearn.model_selection import train_test_split\n",
    "X_train, X_test, y_train, y_test = train_test_split(X, y, test_size = 0.2, random_state = 42)"
   ]
  },
  {
   "cell_type": "code",
   "execution_count": 4,
   "metadata": {},
   "outputs": [
    {
     "output_type": "stream",
     "name": "stdout",
     "text": [
      "Model Performance:  0.7811302113434095\n"
     ]
    }
   ],
   "source": [
    "from sklearn.linear_model import LinearRegression\n",
    "reg = LinearRegression()\n",
    "reg.fit(X_train, y_train)\n",
    "print(\"Model Performance: \", reg.score(X_test, y_test))"
   ]
  }
 ]
}